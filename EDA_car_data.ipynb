{
 "cells": [
  {
   "cell_type": "code",
   "execution_count": null,
   "id": "f16e925e",
   "metadata": {},
   "outputs": [],
   "source": [
    "import pandas as pd\n",
    "import matplotlib.pyplot as plt\n",
    "import seaborn as sns\n",
    "%matplotlib inline\n",
    "sns.set_color_codes = True"
   ]
  },
  {
   "cell_type": "code",
   "execution_count": null,
   "id": "864c1218",
   "metadata": {},
   "outputs": [],
   "source": [
    "data = pd.read_csv('data.csv')"
   ]
  },
  {
   "cell_type": "code",
   "execution_count": null,
   "id": "f3105d41",
   "metadata": {},
   "outputs": [],
   "source": [
    "data.head(5)"
   ]
  },
  {
   "cell_type": "code",
   "execution_count": null,
   "id": "74d1635c",
   "metadata": {},
   "outputs": [],
   "source": [
    "data.tail(5)"
   ]
  },
  {
   "cell_type": "code",
   "execution_count": null,
   "id": "255fae91",
   "metadata": {},
   "outputs": [],
   "source": [
    "data.shape"
   ]
  },
  {
   "cell_type": "code",
   "execution_count": null,
   "id": "96bb489e",
   "metadata": {},
   "outputs": [],
   "source": [
    "data.isnull()"
   ]
  },
  {
   "cell_type": "code",
   "execution_count": null,
   "id": "cfc1bd91",
   "metadata": {},
   "outputs": [],
   "source": [
    "data.isnull().sum()"
   ]
  },
  {
   "cell_type": "code",
   "execution_count": null,
   "id": "d4534b7f",
   "metadata": {},
   "outputs": [],
   "source": [
    "data.describe()"
   ]
  },
  {
   "cell_type": "code",
   "execution_count": null,
   "id": "03549158",
   "metadata": {},
   "outputs": [],
   "source": [
    "data.dtypes"
   ]
  },
  {
   "cell_type": "code",
   "execution_count": null,
   "id": "fd5c3130",
   "metadata": {},
   "outputs": [],
   "source": [
    "data[\"Engine Fuel Type\"]"
   ]
  },
  {
   "cell_type": "code",
   "execution_count": null,
   "id": "65e0bdc6",
   "metadata": {},
   "outputs": [],
   "source": [
    "data[\"Engine Fuel Type\"].unique()"
   ]
  },
  {
   "cell_type": "code",
   "execution_count": null,
   "id": "0e638c2e",
   "metadata": {},
   "outputs": [],
   "source": [
    "data['Engine Fuel Type'].fillna(method = 'ffill', inplace = True)"
   ]
  },
  {
   "cell_type": "code",
   "execution_count": null,
   "id": "f08ac797",
   "metadata": {},
   "outputs": [],
   "source": [
    "data[\"Engine Fuel Type\"].isnull().sum()"
   ]
  },
  {
   "cell_type": "code",
   "execution_count": null,
   "id": "45c19be1",
   "metadata": {},
   "outputs": [],
   "source": [
    "data[\"Engine HP\"].unique()"
   ]
  },
  {
   "cell_type": "code",
   "execution_count": null,
   "id": "1da24b96",
   "metadata": {},
   "outputs": [],
   "source": [
    "mean_HP=data['Engine HP'].mean()\n",
    "mean_HP"
   ]
  },
  {
   "cell_type": "code",
   "execution_count": null,
   "id": "beafb6b5",
   "metadata": {},
   "outputs": [],
   "source": [
    "data.duplicated().sum()"
   ]
  },
  {
   "cell_type": "code",
   "execution_count": null,
   "id": "99775f29",
   "metadata": {},
   "outputs": [],
   "source": [
    "data.drop_duplicates(inplace=True )"
   ]
  },
  {
   "cell_type": "code",
   "execution_count": null,
   "id": "666a9f56",
   "metadata": {},
   "outputs": [],
   "source": [
    "data['Engine Fuel Type'].fillna(mean_HP, inplace = True)"
   ]
  },
  {
   "cell_type": "code",
   "execution_count": null,
   "id": "9570df19",
   "metadata": {},
   "outputs": [],
   "source": [
    "data[\"Engine Fuel Type\"].isnull().sum()"
   ]
  },
  {
   "cell_type": "code",
   "execution_count": null,
   "id": "2db44d53",
   "metadata": {},
   "outputs": [],
   "source": [
    "data[\"Engine Cylinders\"].unique()"
   ]
  },
  {
   "cell_type": "code",
   "execution_count": null,
   "id": "94e68fb7",
   "metadata": {},
   "outputs": [],
   "source": [
    "data['Engine Cylinders'] = data.groupby('Engine HP')['Engine Cylinders'].ffill()"
   ]
  },
  {
   "cell_type": "code",
   "execution_count": null,
   "id": "09a82b09",
   "metadata": {},
   "outputs": [],
   "source": [
    "data[\"Engine Cylinders\"]"
   ]
  },
  {
   "cell_type": "code",
   "execution_count": null,
   "id": "28f28f1c",
   "metadata": {},
   "outputs": [],
   "source": [
    "data['Engine Cylinders']=data['Engine Cylinders'].fillna(method='ffill')\n"
   ]
  },
  {
   "cell_type": "code",
   "execution_count": null,
   "id": "ae52bc1d",
   "metadata": {},
   "outputs": [],
   "source": [
    "data['Number of Doors']=data['Number of Doors'].fillna(method='ffill')"
   ]
  },
  {
   "cell_type": "code",
   "execution_count": null,
   "id": "d3b2d32e",
   "metadata": {},
   "outputs": [],
   "source": [
    "data['Market Category']=data['Market Category'].fillna('Crossover')"
   ]
  },
  {
   "cell_type": "code",
   "execution_count": null,
   "id": "fbb21edf",
   "metadata": {},
   "outputs": [],
   "source": [
    "data['Engine HP']=data['Engine HP'].fillna(method='ffill')"
   ]
  },
  {
   "cell_type": "code",
   "execution_count": null,
   "id": "21f075e4",
   "metadata": {},
   "outputs": [],
   "source": [
    "data.isnull().sum().sort_values(ascending=False).head()"
   ]
  },
  {
   "cell_type": "code",
   "execution_count": null,
   "id": "548a78e4",
   "metadata": {},
   "outputs": [],
   "source": [
    "data.boxplot()"
   ]
  },
  {
   "cell_type": "code",
   "execution_count": null,
   "id": "9f96ccd8",
   "metadata": {},
   "outputs": [],
   "source": [
    "plt.savefig('boxplot.png')"
   ]
  },
  {
   "cell_type": "code",
   "execution_count": null,
   "id": "a50af80d",
   "metadata": {},
   "outputs": [],
   "source": []
  },
  {
   "cell_type": "code",
   "execution_count": null,
   "id": "578c6e9a",
   "metadata": {},
   "outputs": [],
   "source": [
    "Q1 = data.quantile(0.25)\n",
    "Q3 = data.quantile(0.75)\n",
    "IQR = Q3 - Q1\n",
    "print(IQR)"
   ]
  },
  {
   "cell_type": "code",
   "execution_count": null,
   "id": "bc2c6850",
   "metadata": {},
   "outputs": [],
   "source": [
    "Q1"
   ]
  },
  {
   "cell_type": "code",
   "execution_count": null,
   "id": "7ceff7d3",
   "metadata": {},
   "outputs": [],
   "source": [
    "data = data[~((data < (Q1 - 1.5*IQR)) | (data > (Q3 + 1.5*IQR))).any(axis=1)]\n",
    "data.shape"
   ]
  },
  {
   "cell_type": "code",
   "execution_count": null,
   "id": "753c58a1",
   "metadata": {},
   "outputs": [],
   "source": [
    "sns.set({'figure.figsize':(20,10)})\n",
    "VS=sns.barplot(x=data['MSRP'], y=data['Vehicle Style'])\n",
    "plt.title('Vehicle Style and MSRP', weight='bold', fontsize=18)\n",
    "plt.xlabel('MSRP', weight='bold',fontsize=14)\n",
    "plt.ylabel('Vehicle Style', weight='bold', fontsize=14)\n",
    "plt.xticks(weight='bold')\n",
    "plt.yticks(weight='bold')"
   ]
  },
  {
   "cell_type": "code",
   "execution_count": null,
   "id": "d100ffee",
   "metadata": {},
   "outputs": [],
   "source": []
  },
  {
   "cell_type": "code",
   "execution_count": null,
   "id": "6a5c14e9",
   "metadata": {},
   "outputs": [],
   "source": [
    "plt.savefig('barplot.png')"
   ]
  },
  {
   "cell_type": "code",
   "execution_count": null,
   "id": "5433c0c8",
   "metadata": {},
   "outputs": [],
   "source": [
    "data.corr()"
   ]
  },
  {
   "cell_type": "code",
   "execution_count": null,
   "id": "b7f36049",
   "metadata": {},
   "outputs": [],
   "source": [
    "sns.heatmap(data.corr())"
   ]
  },
  {
   "cell_type": "code",
   "execution_count": null,
   "id": "326263bf",
   "metadata": {},
   "outputs": [],
   "source": [
    "plt.savefig('heatmap.png')"
   ]
  },
  {
   "cell_type": "code",
   "execution_count": null,
   "id": "ec160417",
   "metadata": {},
   "outputs": [],
   "source": [
    "plt.hist(data)\n",
    "plt.show() \n",
    "plt.savefig('histogram.png')\n"
   ]
  },
  {
   "cell_type": "code",
   "execution_count": null,
   "id": "951a4f8e",
   "metadata": {},
   "outputs": [],
   "source": [
    "plt.savefig('histogram.png')"
   ]
  },
  {
   "cell_type": "code",
   "execution_count": null,
   "id": "3475223d",
   "metadata": {},
   "outputs": [],
   "source": [
    "plt.scatter(x=data['MSRP'], y=data['Vehicle Style'])\n",
    "plt.show()"
   ]
  },
  {
   "cell_type": "code",
   "execution_count": null,
   "id": "8feaae07",
   "metadata": {},
   "outputs": [],
   "source": [
    "plt.savefig('scatter.png')"
   ]
  },
  {
   "cell_type": "code",
   "execution_count": null,
   "id": "b3a38bec",
   "metadata": {},
   "outputs": [],
   "source": [
    "labels= ['Chevrolet','Ford','Volkswagen','Toyota','Dodge']\n",
    "values=data['MRSP'].unique()\n",
    "#visulization\n",
    "plt.pie(values,labels=labels)\n",
    "plt.title('TOP 5 Car brands in the dataset',color='black',fontsize=10)\n",
    "plt.show()"
   ]
  },
  {
   "cell_type": "code",
   "execution_count": null,
   "id": "07ba4b39",
   "metadata": {},
   "outputs": [],
   "source": [
    "#HTML code\n",
    "<!DOCTYPE html>\n",
    "<html>\n",
    "\n",
    "   <head>\n",
    "      <title>Boxplot</title>\n",
    "   </head>\n",
    "\n",
    "   <body>\n",
    "      <p>Simple Image Insert</p>\n",
    "      <img src =\"C:\\Users\\sarja\\OneDrive\\Desktop\\Data  Visulization\\boxplot.png\" alt=\"Image 1\">\n",
    "      <img src= \"C:\\Users\\sarja\\OneDrive\\Desktop\\Data  Visulization\\heatmap.png\" alt=\"Image 2\">\n",
    "      <img src= \"C:\\Users\\sarja\\OneDrive\\Desktop\\Data  Visulization\\scatter.png\" alt=\"Image 3\">\n",
    "      <img src= \"C:\\Users\\sarja\\OneDrive\\Desktop\\Data  Visulization\\boxplot.png\" alt=\"Image 4\">  \n",
    "   </body>\n",
    "\n",
    "</html>"
   ]
  },
  {
   "cell_type": "markdown",
   "id": "438f6922",
   "metadata": {},
   "source": [
    "Share the insights from the data that you have achieve from the EDA exercise\n",
    "\n",
    "Here are some possible insights that could be gained from an EDA exercise on car features and MSRP:\n",
    "\n",
    "Correlation between car features and price: By analyzing the correlation between different car features and the MSRP, we can determine which features have the greatest impact on the price of a car. For example, we might find that luxury features like leather seats, advanced infotainment systems, and high-end audio systems are strongly correlated with higher prices.\n",
    "\n",
    "Distribution of car prices: By examining the distribution of car prices in the dataset, we can get a sense of the range of prices and the most common price points. This can help us understand the market segment that the cars in the dataset are targeting.\n",
    "\n",
    "Relationship between car brand and price: We might find that certain car brands are associated with higher prices, while others are more affordable. This can help us understand the market positioning of different car manufacturers and their target customers.\n",
    "\n",
    "Impact of fuel efficiency on price: We might find that cars with higher fuel efficiency tend to have higher prices. This could be due to the fact that fuel-efficient cars are often associated with advanced technologies that can be expensive to produce.\n",
    "\n",
    "Overall, an EDA exercise on car features and MSRP can provide valuable insights into the factors that drive the price of a car, and help us understand the competitive landscape of the automotive industry."
   ]
  },
  {
   "cell_type": "code",
   "execution_count": null,
   "id": "adeaaed3",
   "metadata": {},
   "outputs": [],
   "source": []
  },
  {
   "cell_type": "code",
   "execution_count": null,
   "id": "3f325ccc",
   "metadata": {},
   "outputs": [],
   "source": []
  },
  {
   "cell_type": "code",
   "execution_count": null,
   "id": "92acb4f9",
   "metadata": {},
   "outputs": [],
   "source": []
  },
  {
   "cell_type": "code",
   "execution_count": null,
   "id": "d1cc3b7e",
   "metadata": {},
   "outputs": [],
   "source": []
  },
  {
   "cell_type": "code",
   "execution_count": null,
   "id": "6758d0f0",
   "metadata": {},
   "outputs": [],
   "source": []
  },
  {
   "cell_type": "code",
   "execution_count": null,
   "id": "9c91754e",
   "metadata": {},
   "outputs": [],
   "source": []
  },
  {
   "cell_type": "code",
   "execution_count": null,
   "id": "2a91e3b3",
   "metadata": {},
   "outputs": [],
   "source": []
  },
  {
   "cell_type": "code",
   "execution_count": null,
   "id": "a5f14cd5",
   "metadata": {},
   "outputs": [],
   "source": []
  },
  {
   "cell_type": "code",
   "execution_count": null,
   "id": "00d7fe2a",
   "metadata": {},
   "outputs": [],
   "source": []
  },
  {
   "cell_type": "code",
   "execution_count": null,
   "id": "a5dcfe4d",
   "metadata": {},
   "outputs": [],
   "source": []
  },
  {
   "cell_type": "code",
   "execution_count": null,
   "id": "fdf9d0e2",
   "metadata": {},
   "outputs": [],
   "source": []
  },
  {
   "cell_type": "code",
   "execution_count": null,
   "id": "93224581",
   "metadata": {},
   "outputs": [],
   "source": []
  },
  {
   "cell_type": "code",
   "execution_count": null,
   "id": "d1852e5e",
   "metadata": {},
   "outputs": [],
   "source": []
  },
  {
   "cell_type": "code",
   "execution_count": null,
   "id": "948fb67f",
   "metadata": {},
   "outputs": [],
   "source": []
  },
  {
   "cell_type": "code",
   "execution_count": null,
   "id": "7f83dd58",
   "metadata": {},
   "outputs": [],
   "source": []
  },
  {
   "cell_type": "code",
   "execution_count": null,
   "id": "2ea1e98a",
   "metadata": {},
   "outputs": [],
   "source": []
  },
  {
   "cell_type": "code",
   "execution_count": null,
   "id": "71837bf9",
   "metadata": {},
   "outputs": [],
   "source": []
  },
  {
   "cell_type": "code",
   "execution_count": null,
   "id": "81606631",
   "metadata": {},
   "outputs": [],
   "source": []
  },
  {
   "cell_type": "code",
   "execution_count": null,
   "id": "e220167e",
   "metadata": {},
   "outputs": [],
   "source": []
  },
  {
   "cell_type": "code",
   "execution_count": null,
   "id": "8a68e80a",
   "metadata": {},
   "outputs": [],
   "source": []
  },
  {
   "cell_type": "code",
   "execution_count": null,
   "id": "9597ac3d",
   "metadata": {},
   "outputs": [],
   "source": []
  },
  {
   "cell_type": "code",
   "execution_count": null,
   "id": "35158318",
   "metadata": {},
   "outputs": [],
   "source": []
  },
  {
   "cell_type": "code",
   "execution_count": null,
   "id": "591748d6",
   "metadata": {},
   "outputs": [],
   "source": []
  },
  {
   "cell_type": "code",
   "execution_count": null,
   "id": "5b7f833f",
   "metadata": {},
   "outputs": [],
   "source": []
  },
  {
   "cell_type": "code",
   "execution_count": null,
   "id": "0fdd1940",
   "metadata": {},
   "outputs": [],
   "source": []
  },
  {
   "cell_type": "code",
   "execution_count": null,
   "id": "c89c1f7f",
   "metadata": {},
   "outputs": [],
   "source": []
  },
  {
   "cell_type": "code",
   "execution_count": null,
   "id": "882f3090",
   "metadata": {},
   "outputs": [],
   "source": []
  },
  {
   "cell_type": "code",
   "execution_count": null,
   "id": "a99caafa",
   "metadata": {},
   "outputs": [],
   "source": []
  },
  {
   "cell_type": "code",
   "execution_count": null,
   "id": "6b99ff83",
   "metadata": {},
   "outputs": [],
   "source": []
  },
  {
   "cell_type": "code",
   "execution_count": null,
   "id": "6587245c",
   "metadata": {},
   "outputs": [],
   "source": []
  }
 ],
 "metadata": {
  "kernelspec": {
   "display_name": "Python 3 (ipykernel)",
   "language": "python",
   "name": "python3"
  },
  "language_info": {
   "codemirror_mode": {
    "name": "ipython",
    "version": 3
   },
   "file_extension": ".py",
   "mimetype": "text/x-python",
   "name": "python",
   "nbconvert_exporter": "python",
   "pygments_lexer": "ipython3",
   "version": "3.9.13"
  }
 },
 "nbformat": 4,
 "nbformat_minor": 5
}
